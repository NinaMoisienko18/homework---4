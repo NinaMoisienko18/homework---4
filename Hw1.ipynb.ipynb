{
 "cells": [
  {
   "cell_type": "markdown",
   "id": "77b2eb0f-d7d8-467e-b7fe-ca020c63d4c3",
   "metadata": {
    "tags": []
   },
   "source": [
    "Створіть одновимірний масив (вектор) з першими 10-ма натуральними числами та виведіть його значення."
   ]
  },
  {
   "cell_type": "code",
   "execution_count": 139,
   "id": "157ff724-9f32-4199-bb06-84a00d2a99b9",
   "metadata": {
    "tags": []
   },
   "outputs": [
    {
     "name": "stdout",
     "output_type": "stream",
     "text": [
      "Matrix\n",
      " [ 1  2  3  4  5  6  7  8  9 10]\n"
     ]
    }
   ],
   "source": [
    "import numpy as np\n",
    "a = np.array([1, 2, 3, 4, 5, 6, 7, 8, 9, 10])\n",
    "print(f\"Matrix\\n {a}\")"
   ]
  },
  {
   "cell_type": "markdown",
   "id": "5946c6f9-9e64-449e-ad66-26046d86bf79",
   "metadata": {},
   "source": [
    "Створіть двовимірний масив (матрицю) розміром 3x3, заповніть його нулями та виведіть його значення."
   ]
  },
  {
   "cell_type": "code",
   "execution_count": 15,
   "id": "18bd5644-f80d-49ff-b89f-93b9a2c005a8",
   "metadata": {
    "tags": []
   },
   "outputs": [
    {
     "name": "stdout",
     "output_type": "stream",
     "text": [
      "[[0 0 0]\n",
      " [0 0 0]\n",
      " [0 0 0]]\n"
     ]
    }
   ],
   "source": [
    "import random\n",
    "m = np.zeros((3, 3), dtype=int)\n",
    "for i in range(3):\n",
    "    m[i] = 0\n",
    "print(m)"
   ]
  },
  {
   "cell_type": "markdown",
   "id": "70be1331-0e92-444c-ac24-dfa4c5f0df78",
   "metadata": {},
   "source": [
    "Створіть масив розміром 5x5, заповніть його випадковими цілими числами в діапазоні від 1 до 10 та виведіть його значення."
   ]
  },
  {
   "cell_type": "code",
   "execution_count": 141,
   "id": "9284d81d-75af-4b1c-a546-5c6b418475ea",
   "metadata": {
    "tags": []
   },
   "outputs": [
    {
     "name": "stdout",
     "output_type": "stream",
     "text": [
      "[[ 8  5  7  6  6]\n",
      " [ 8  4  3  3  4]\n",
      " [ 6  5 10  2  5]\n",
      " [ 1  6  2  5  4]\n",
      " [ 2  4  4  4 10]]\n"
     ]
    }
   ],
   "source": [
    "b = np.zeros((5, 5), dtype=int)\n",
    "for i in range(5):\n",
    "    b[i] = random.choices(range(1, 11), k=5)\n",
    "print(b)"
   ]
  },
  {
   "cell_type": "markdown",
   "id": "b6ae9c41-6316-4f9d-a218-22dac1df5a75",
   "metadata": {},
   "source": [
    "Створіть масив розміром 4x4, заповніть його випадковими дійсними числами в діапазоні від 0 до 1 та виведіть його значення."
   ]
  },
  {
   "cell_type": "code",
   "execution_count": 19,
   "id": "6980e823-d317-4446-b98d-db8dadc8782b",
   "metadata": {
    "tags": []
   },
   "outputs": [
    {
     "name": "stdout",
     "output_type": "stream",
     "text": [
      "[[0.29596598 0.00422933 0.87618643 0.02465551]\n",
      " [0.41051331 0.072606   0.40122913 0.34819559]\n",
      " [0.03635795 0.21855029 0.54506431 0.65194714]\n",
      " [0.96539862 0.88611063 0.86986711 0.42248594]]\n"
     ]
    }
   ],
   "source": [
    "k = np.random.rand(4, 4)\n",
    "print(k)"
   ]
  },
  {
   "cell_type": "markdown",
   "id": "51d28c82-4a18-4f85-ae6a-d921f057e5b0",
   "metadata": {},
   "source": [
    "Створіть два одновимірних масиви розміром 5, заповніть їх випадковими цілими числами в діапазоні від 1 до 10 та виконайте на них поелементні операції додавання, віднімання та множення."
   ]
  },
  {
   "cell_type": "code",
   "execution_count": 41,
   "id": "7aecb214-88e4-4f9a-9758-62a6a2e9c80c",
   "metadata": {
    "tags": []
   },
   "outputs": [
    {
     "name": "stdout",
     "output_type": "stream",
     "text": [
      "[5 1 9 9 4]\n",
      "[2 9 8 3 8]\n",
      "Sum of two one-dimentional vectors --> [ 7 10 17 12 12]\n",
      "Difference of two  one-dimentional vectors --> [ 3 -8  1  6 -4]\n",
      "Multiplication of two one-dimentional vectors --> [10  9 72 27 32]\n"
     ]
    }
   ],
   "source": [
    "a = np.zeros(5, dtype=int)\n",
    "for i in range(5):\n",
    "    a[i] = random.choice(range(1, 11))\n",
    "    \n",
    "b = np.zeros(5, dtype=int)\n",
    "for k in range(5):\n",
    "    b[k] = random.choice(range(1, 11))\n",
    "\n",
    "print(a)\n",
    "print(b)\n",
    "\n",
    "print(f\"Sum of two one-dimentional vectors --> {a+b}\")\n",
    "print(f\"Difference of two  one-dimentional vectors --> {a-b}\")\n",
    "print(f\"Multiplication of two one-dimentional vectors --> {a*b}\")"
   ]
  },
  {
   "cell_type": "markdown",
   "id": "d7d9e601-3992-405a-8fd0-b7c71e3f07aa",
   "metadata": {},
   "source": [
    "Створіть два вектори розміром 7, заповніть довільними числами та знайдіть їх скалярний добуток."
   ]
  },
  {
   "cell_type": "code",
   "execution_count": 43,
   "id": "065a7a0a-a21c-44a4-89df-c21c5c0ba972",
   "metadata": {
    "tags": []
   },
   "outputs": [
    {
     "name": "stdout",
     "output_type": "stream",
     "text": [
      "[70 27 11 44 83  0  0]\n",
      "[65 77 98 28 54  0  0]\n",
      "scalar product of vectors --> 13421\n"
     ]
    }
   ],
   "source": [
    "a = np.zeros(7, dtype=int)\n",
    "for i in range(5):\n",
    "    a[i] = random.choice(range(1, 100))\n",
    "    \n",
    "b = np.zeros(7, dtype=int)\n",
    "for k in range(5):\n",
    "    b[k] = random.choice(range(1, 100))\n",
    "\n",
    "print(a)\n",
    "print(b)\n",
    "\n",
    "result = np.dot(a, b) #dot - скалярний добуток\n",
    "print(f\"scalar product of vectors --> {result}\")\n"
   ]
  },
  {
   "cell_type": "markdown",
   "id": "19aa2f3b-76e1-4be5-9a2e-8f3ef8324d2f",
   "metadata": {},
   "source": [
    "Створіть дві матриці розміром 2x2 та 2x3, заповніть їх випадковими цілими числами в діапазоні від 1 до 10 та перемножте їх між собою."
   ]
  },
  {
   "cell_type": "code",
   "execution_count": 53,
   "id": "655d263c-1a4f-4b23-8c26-eb83fa2c592c",
   "metadata": {
    "tags": []
   },
   "outputs": [
    {
     "name": "stdout",
     "output_type": "stream",
     "text": [
      "[[6 8]\n",
      " [5 3]]\n",
      "[[3 8 4]\n",
      " [7 3 3]]\n",
      "Multiplication of two matrices --> [[74 72 48]\n",
      " [36 49 29]]\n"
     ]
    }
   ],
   "source": [
    "a = np.zeros((2, 2), dtype=int)\n",
    "for i in range(2):\n",
    "    a[i] = random.choices(range(1, 10), k=2)\n",
    "    \n",
    "b = np.zeros((2, 3), dtype=int)\n",
    "for k in range(2):\n",
    "    b[k] = random.choices(range(1, 10), k=3)\n",
    "\n",
    "print(a)\n",
    "print(b)\n",
    "\n",
    "result = np.dot(a, b) #або @ для перемноження 2 матриць\n",
    "print(f\"Multiplication of two matrices --> {result}\")"
   ]
  },
  {
   "cell_type": "markdown",
   "id": "cd962e88-c0b5-49aa-bc0b-9dcc78ec2479",
   "metadata": {
    "tags": []
   },
   "source": [
    "Створіть матрицю розміром 3x3, заповніть її випадковими цілими числами в діапазоні від 1 до 10 та знайдіть її обернену матрицю."
   ]
  },
  {
   "cell_type": "code",
   "execution_count": 62,
   "id": "5b9c6d59-7b58-4041-ac45-3bf243f58520",
   "metadata": {
    "tags": []
   },
   "outputs": [
    {
     "name": "stdout",
     "output_type": "stream",
     "text": [
      "Usual matrix --> \n",
      "[[4 1 1]\n",
      " [2 1 6]\n",
      " [9 3 4]]\n",
      "\n",
      "wrapped function --> \n",
      "[[ 1.07692308  0.07692308 -0.38461538]\n",
      " [-3.53846154 -0.53846154  1.69230769]\n",
      " [ 0.23076923  0.23076923 -0.15384615]]\n"
     ]
    }
   ],
   "source": [
    "a = np.zeros((3, 3), dtype=int)\n",
    "for i in range(3):\n",
    "    a[i] = random.choices(range(1, 10), k=3)\n",
    "\n",
    "print(f\"Usual matrix --> \\n{a}\\n\")\n",
    "\n",
    "a_inv = np.linalg.inv(a) #inv - для оберненої матриці\n",
    "print(f\"wrapped function --> \\n{a_inv}\")"
   ]
  },
  {
   "cell_type": "markdown",
   "id": "eb9cf7ba-fd48-4a9b-8fb8-cebbfe4e0b24",
   "metadata": {},
   "source": [
    "Створіть матрицю розміром 4x4, заповніть її випадковими дійсними числами в діапазоні від 0 до 1 та транспонуйте її."
   ]
  },
  {
   "cell_type": "code",
   "execution_count": 63,
   "id": "e01ca0f7-e2b3-4364-b869-e43a742712b2",
   "metadata": {
    "tags": []
   },
   "outputs": [
    {
     "name": "stdout",
     "output_type": "stream",
     "text": [
      "Usual matrix --> \n",
      "[[0.99473895 0.48731572 0.33556189 0.48939543]\n",
      " [0.23927032 0.86725365 0.29799381 0.82425107]\n",
      " [0.31427401 0.04514233 0.738764   0.56957299]\n",
      " [0.61329774 0.12863743 0.03729759 0.60695737]]\n",
      "\n",
      "Transposed matrix --> \n",
      "[[0.99473895 0.23927032 0.31427401 0.61329774]\n",
      " [0.48731572 0.86725365 0.04514233 0.12863743]\n",
      " [0.33556189 0.29799381 0.738764   0.03729759]\n",
      " [0.48939543 0.82425107 0.56957299 0.60695737]]\n"
     ]
    }
   ],
   "source": [
    "a = np.random.rand(4, 4)\n",
    "b = a.T # T - транспонована матриця\n",
    "print(f\"Usual matrix --> \\n{a}\\n\")\n",
    "print(f\"Transposed matrix --> \\n{b}\")"
   ]
  },
  {
   "cell_type": "markdown",
   "id": "cba690db-0acb-4f79-a10a-455c57203f03",
   "metadata": {},
   "source": [
    "Створіть матрицю розміром 3x4 та вектор розміром 4, заповніть їх випадковими цілими числами в діапазоні від 1 до 10 та перемножте матрицю на вектор."
   ]
  },
  {
   "cell_type": "code",
   "execution_count": 142,
   "id": "40cd48ac-25f2-4fbd-beca-eec9fa1d8677",
   "metadata": {
    "tags": []
   },
   "outputs": [
    {
     "name": "stdout",
     "output_type": "stream",
     "text": [
      "Matrix --> \n",
      "[[2 4 1 6]\n",
      " [1 6 6 5]\n",
      " [7 3 1 4]]\n",
      "\n",
      "Vector --> \n",
      "[7 9 4 1]\n",
      "\n",
      "Multiplication -->\n",
      "[60 90 84]\n"
     ]
    }
   ],
   "source": [
    "a = np.zeros((3, 4), dtype=int)\n",
    "for i in range(3):\n",
    "    a[i] = random.choices(range(1, 10), k=4)\n",
    "    \n",
    "b = np.zeros(4, dtype=int)\n",
    "for i in range(4):\n",
    "    b[i] = random.choice(range(1, 11))\n",
    "print(f\"Matrix --> \\n{a}\\n\")\n",
    "print(f\"Vector --> \\n{b}\\n\")\n",
    "\n",
    "print(f\"Multiplication -->\\n{np.dot(a, b)}\")"
   ]
  },
  {
   "cell_type": "markdown",
   "id": "baa35737-9968-415b-b3a3-66679f9dcab4",
   "metadata": {
    "tags": []
   },
   "source": [
    "Створіть матрицю розміром 2x3 та вектор розміром 3, заповніть їх випадковими дійсними числами в діапазоні від 0 до 1 та перемножте матрицю на вектор."
   ]
  },
  {
   "cell_type": "code",
   "execution_count": 93,
   "id": "6a621ea7-b480-499e-990a-7d8a8c347261",
   "metadata": {
    "tags": []
   },
   "outputs": [
    {
     "name": "stdout",
     "output_type": "stream",
     "text": [
      "Matrix --> \n",
      "[[0.89336384 0.13909965 0.31367399]\n",
      " [0.05719893 0.94813584 0.70064198]]\n",
      "\n",
      "Vector --> \n",
      "[0.817248   0.88190645 0.02090699]\n",
      "\n",
      "Multiplication -->\n",
      "[0.85933068 0.89756115]\n"
     ]
    }
   ],
   "source": [
    "a = np.random.rand(2, 3)\n",
    "b = np.random.rand(3)\n",
    "\n",
    "print(f\"Matrix --> \\n{a}\\n\")\n",
    "print(f\"Vector --> \\n{b}\\n\")\n",
    "result = np.dot(a, b)\n",
    "\n",
    "print(f\"Multiplication -->\\n{result}\")\n"
   ]
  },
  {
   "cell_type": "markdown",
   "id": "5d5c67bd-6288-4224-b086-8af3c3ec04c9",
   "metadata": {},
   "source": [
    "Створіть дві матриці розміром 2x2, заповніть їх випадковими цілими числами в діапазоні від 1 до 10 та виконайте їхнє поелементне множення."
   ]
  },
  {
   "cell_type": "code",
   "execution_count": 81,
   "id": "26e1eb5f-7f5f-4889-aa5d-23c2e3b7f834",
   "metadata": {
    "tags": []
   },
   "outputs": [
    {
     "name": "stdout",
     "output_type": "stream",
     "text": [
      "Matrix 1 --> \n",
      "[[ 2 10]\n",
      " [ 5  4]]\n",
      "\n",
      "Matrix 2--> \n",
      "[[8 1]\n",
      " [4 2]]\n",
      "\n",
      "Element-wise multiplication of two matrices --> \n",
      "[[16 10]\n",
      " [20  8]]\n"
     ]
    }
   ],
   "source": [
    "a = np.random.randint(1, 11, size=(2, 2))\n",
    "b = np.random.randint(1, 11, size=(2, 2))\n",
    "\n",
    "\n",
    "print(f\"Matrix 1 --> \\n{a}\\n\")\n",
    "print(f\"Matrix 2--> \\n{b}\\n\")\n",
    "\n",
    "result = np.multiply(a, b) #або можна використати звийчайни знак множення *\n",
    "print(f\"Element-wise multiplication of two matrices --> \\n{result}\")"
   ]
  },
  {
   "cell_type": "markdown",
   "id": "1b565154-9ec9-442f-b765-edc13d7002df",
   "metadata": {},
   "source": [
    "Створіть дві матриці розміром 2x2, заповніть їх випадковими цілими числами в діапазоні від 1 до 10 та знайдіть їх добуток."
   ]
  },
  {
   "cell_type": "code",
   "execution_count": 84,
   "id": "741c3812-53c2-4639-bd62-41b9ffbe8e11",
   "metadata": {
    "tags": []
   },
   "outputs": [
    {
     "name": "stdout",
     "output_type": "stream",
     "text": [
      "Matrix 1 --> \n",
      "[[5 3]\n",
      " [1 5]]\n",
      "\n",
      "Matrix 2--> \n",
      "[[9 1]\n",
      " [6 1]]\n",
      "\n",
      "Matrix product of a and b --> \n",
      "[[63  8]\n",
      " [39  6]]\n"
     ]
    }
   ],
   "source": [
    "a = np.random.randint(1, 11, size=(2, 2))\n",
    "b = np.random.randint(1, 11, size=(2, 2))\n",
    "print(f\"Matrix 1 --> \\n{a}\\n\")\n",
    "print(f\"Matrix 2--> \\n{b}\\n\")\n",
    "result = np.dot(a, b)\n",
    "print(f\"Matrix product of a and b --> \\n{result}\")"
   ]
  },
  {
   "cell_type": "markdown",
   "id": "447bc225-2c24-4741-91d6-8c282f8def2f",
   "metadata": {},
   "source": [
    "Створіть матрицю розміром 5x5, заповніть її випадковими цілими числами в діапазоні від 1 до 100 та знайдіть суму елементів матриці."
   ]
  },
  {
   "cell_type": "code",
   "execution_count": 100,
   "id": "ca519e18-9c7f-4eaa-b4a5-70225afbf72d",
   "metadata": {
    "tags": []
   },
   "outputs": [
    {
     "name": "stdout",
     "output_type": "stream",
     "text": [
      "[[37 52 24 87 37]\n",
      " [71 69 20  1  2]\n",
      " [49 33 43 15 71]\n",
      " [10 99 74 69 87]\n",
      " [39 83 96 86 96]]\n",
      "\n",
      "Summary --> 1350\n"
     ]
    }
   ],
   "source": [
    "a = np.random.randint(1, 101, size=(5, 5))\n",
    "print(a)\n",
    "result = np.sum(a)\n",
    "print(f\"\\nSummary --> {result}\")"
   ]
  },
  {
   "cell_type": "markdown",
   "id": "62813982-e857-4baa-b56d-cccc6d1290a7",
   "metadata": {},
   "source": [
    "Створіть дві матриці розміром 4x4, заповніть їх випадковими цілими числами в діапазоні від 1 до 10 та знайдіть їхню різницю."
   ]
  },
  {
   "cell_type": "code",
   "execution_count": 105,
   "id": "5b38e1ca-c953-42bb-8371-de9831ad6cb4",
   "metadata": {
    "tags": []
   },
   "outputs": [
    {
     "name": "stdout",
     "output_type": "stream",
     "text": [
      "Matrix 1\n",
      " [[94  2 98 88]\n",
      " [53 37 91 73]\n",
      " [38 76 81 26]\n",
      " [65 36 27  7]]\n",
      "Matrix 2\n",
      " [[78 21 56 55]\n",
      " [ 1 42 20 71]\n",
      " [94 25 19 59]\n",
      " [ 3 45 75 11]]\n",
      "\n",
      "Difference --> \n",
      "[[ 16 -19  42  33]\n",
      " [ 52  -5  71   2]\n",
      " [-56  51  62 -33]\n",
      " [ 62  -9 -48  -4]]\n"
     ]
    }
   ],
   "source": [
    "a = np.random.randint(1, 101, size=(4, 4))\n",
    "b = np.random.randint(1, 101, size=(4, 4))\n",
    "\n",
    "print(f\"Matrix 1\\n {a}\")\n",
    "print(f\"Matrix 2\\n {b}\")\n",
    "\n",
    "result = a - b\n",
    "print(f\"\\nDifference --> \\n{result}\")"
   ]
  },
  {
   "cell_type": "markdown",
   "id": "2fdcf354-4692-4419-b16f-f10fc605f59a",
   "metadata": {},
   "source": [
    "Створіть матрицю розміром 3x3, заповніть її випадковими дійсними числами в діапазоні від 0 до 1 та знайдіть вектор-стовпчик, що містить суму елементів кожного рядка матриці."
   ]
  },
  {
   "cell_type": "code",
   "execution_count": 119,
   "id": "d4c3eefb-f4ab-4c4e-b226-dd876cc87316",
   "metadata": {
    "tags": []
   },
   "outputs": [
    {
     "name": "stdout",
     "output_type": "stream",
     "text": [
      "Matrix \n",
      " [[0.97938362 0.43904186 0.65478495]\n",
      " [0.76297957 0.30943057 0.33303753]\n",
      " [0.1795751  0.64533766 0.16124897]]\n",
      "\n",
      "Vector -->\n",
      "[[2.07321043]\n",
      " [1.40544768]\n",
      " [0.98616173]]\n"
     ]
    }
   ],
   "source": [
    "a = np.random.rand(3, 3)\n",
    "print(f\"Matrix \\n {a}\\n\")\n",
    "row_sums = np.sum(a, axis=1)\n",
    "column_vector = row_sums.reshape(-1, 1)\n",
    "print(f\"Vector -->\\n{column_vector}\")"
   ]
  },
  {
   "cell_type": "markdown",
   "id": "2033e90d-c06c-495e-acd1-7a71d1d13c51",
   "metadata": {},
   "source": [
    "Створіть матрицю розміром 3x4 з довільними цілими числами і створінь матрицю з квадратами цих чисел."
   ]
  },
  {
   "cell_type": "code",
   "execution_count": 143,
   "id": "9a32c701-2c1d-4778-99b5-0ec2bd8983ab",
   "metadata": {
    "tags": []
   },
   "outputs": [
    {
     "name": "stdout",
     "output_type": "stream",
     "text": [
      "Matrix\n",
      " [[1 3 3 6]\n",
      " [5 5 3 2]\n",
      " [6 6 8 3]]\n",
      "\n",
      "Square --> \n",
      "[[ 1  9  9 36]\n",
      " [25 25  9  4]\n",
      " [36 36 64  9]]\n"
     ]
    }
   ],
   "source": [
    "a = np.random.randint(1, 10, size=(3, 4))\n",
    "print(f\"Matrix\\n {a}\")\n",
    "\n",
    "result = np.square(a)\n",
    "print(f\"\\nSquare --> \\n{result}\")"
   ]
  },
  {
   "cell_type": "markdown",
   "id": "c12537d5-4e8f-4773-8f84-0f8fd6c232fd",
   "metadata": {},
   "source": [
    "Створіть вектор розміром 4, заповніть його випадковими цілими числами в діапазоні від 1 до 50 та знайдіть вектор з квадратними коренями цих чисел."
   ]
  },
  {
   "cell_type": "code",
   "execution_count": 138,
   "id": "ff89a60f-31d3-4a52-a9b9-e8605b46dd22",
   "metadata": {
    "tags": []
   },
   "outputs": [
    {
     "name": "stdout",
     "output_type": "stream",
     "text": [
      "Matrix\n",
      " [49 46 26 39]\n",
      "\n",
      "Sqrt --> \n",
      "[7.         6.78232998 5.09901951 6.244998  ]\n"
     ]
    }
   ],
   "source": [
    "a = np.zeros(4, dtype=int)\n",
    "for i in range(4):\n",
    "    a[i] = random.choice(range(1, 50))\n",
    "print(f\"Matrix\\n {a}\")\n",
    "\n",
    "    \n",
    "result = np.sqrt(a)\n",
    "\n",
    "print(f\"\\nSqrt --> \\n{result}\")"
   ]
  },
  {
   "cell_type": "code",
   "execution_count": null,
   "id": "cc2e1d8b-558d-43ee-a612-c6348277537d",
   "metadata": {},
   "outputs": [],
   "source": []
  }
 ],
 "metadata": {
  "kernelspec": {
   "display_name": "Python 3 (ipykernel)",
   "language": "python",
   "name": "python3"
  },
  "language_info": {
   "codemirror_mode": {
    "name": "ipython",
    "version": 3
   },
   "file_extension": ".py",
   "mimetype": "text/x-python",
   "name": "python",
   "nbconvert_exporter": "python",
   "pygments_lexer": "ipython3",
   "version": "3.11.5"
  }
 },
 "nbformat": 4,
 "nbformat_minor": 5
}
